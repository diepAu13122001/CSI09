{
  "cells": [
    {
      "cell_type": "markdown",
      "metadata": {
        "id": "8rQlWjj0W24X"
      },
      "source": [
        "## <center>Computer Science Intensive Course - MindX</center>\n",
        "![](./assets/logo.png)\n",
        "# <center>LAB 2. GIỚI THIỆU VỀ THUẬT TOÁN VÀ CẤU TRÚC DỮ LIỆU</center>"
      ]
    },
    {
      "cell_type": "markdown",
      "metadata": {
        "id": "uZnf4GwKW24b"
      },
      "source": [
        "## Bài 1. Xâu Đối Xứng\n",
        "Xâu đối xứng là một chuỗi ký tự có dạng đối xứng gương, nửa cuối của xâu bằng nửa đầu của xâu viết theo hướng ngược lại.  \n",
        "**Input**: Một chuỗi ký tự (string) với độ dài tối thiểu 1 và không quá 255 ký tự.  \n",
        "**Output**: Trả về True nếu chuỗi ký tự đối xứng, ngược lại trả về False.  \n",
        "**Ví dụ**:  \n",
        "Ví dụ 1:\n",
        "- Input: string = \"abcba\"\n",
        "- Output: True  \n",
        "\n",
        "Ví dụ 2:\n",
        "- Input: string = \"abccba\"\n",
        "- Output: True.  \n",
        "\n",
        "Ví dụ 3:\n",
        "- Input: string = \"abcabc\"\n",
        "- Output: False.  "
      ]
    },
    {
      "cell_type": "code",
      "execution_count": null,
      "metadata": {
        "id": "3zQdMHIwW24b"
      },
      "outputs": [],
      "source": [
        "def is_symmetric(inp):\n",
        "    return inp[::-1] == inp"
      ]
    },
    {
      "cell_type": "markdown",
      "metadata": {
        "id": "cZxQsEfZW24d"
      },
      "source": [
        "## Bài 2. Số Siêu Nguyên Tố\n",
        "Số siêu nguyên tố là một số nguyên tố với tính chất: khi ta xóa một số lượng chữ số tận cùng bất kỳ của nó, ta vẫn được một số nguyên tố.  \n",
        "**Input**: Một số nguyên *0 < n < 10^9*   \n",
        "**Output**: Trả về True nếu số vừa nhập là số siêu nguyên tố, ngược lại trả về False.   \n",
        "**Ví dụ**:  \n",
        "\n",
        "Ví dụ 1:\n",
        "- Input: n = 3739\n",
        "- Output: True\n",
        "- Giải thích: 3739, 373, 37, 3 đều là số nguyên tố\n",
        "\n",
        "Ví dụ 2:\n",
        "- Input: n = 47\n",
        "- Output: False\n",
        "- Giải thích: 47 là số nguyên tố nhưng 4 không phải số nguyên tố"
      ]
    },
    {
      "cell_type": "code",
      "execution_count": 19,
      "metadata": {
        "id": "UCwENyW3W24d",
        "outputId": "b8175ea9-81a6-4018-a349-01ec3da6fe62"
      },
      "outputs": [],
      "source": [
        "import math\n",
        "def is_prime(num):\n",
        "    for i in range(2, int(math.sqrt(num)) + 1):\n",
        "        if num % i == 0:\n",
        "            return False\n",
        "    return True \n",
        "def is_super_prime(num):\n",
        "    if not is_prime(num):\n",
        "        return False\n",
        "    for i in range(len(str(num))):\n",
        "        num = num//10\n",
        "        if not is_prime(num):\n",
        "            return False\n",
        "    return True"
      ]
    },
    {
      "cell_type": "code",
      "execution_count": 21,
      "metadata": {},
      "outputs": [
        {
          "name": "stdout",
          "output_type": "stream",
          "text": [
            "11\n"
          ]
        },
        {
          "data": {
            "text/plain": [
              "False"
            ]
          },
          "execution_count": 21,
          "metadata": {},
          "output_type": "execute_result"
        }
      ],
      "source": [
        "is_super_prime(1111)"
      ]
    },
    {
      "cell_type": "markdown",
      "metadata": {
        "id": "iwqrHnlmW24f"
      },
      "source": [
        "## Bài 3. Kiểm Tra Tam Giác\n",
        "**Input**: Ba số thực -10^9 < a, b, c < 10^9.  \n",
        "**Output**: Kiểm tra a, b, c có thể là độ dài ba cạnh của tam giác hay không. Nếu có, kiểm tra tam giác được tạo thành là tam giác nhọn (1), vuông (2) hay tù (3). Trả về 0 nếu không thể tạo thành tam giác; trả về 1, 2 hoặc 3 trong các trường hợp tam giác tương ứng.  \n",
        "**Ví dụ**:\n",
        "\n",
        "Ví dụ 1:\n",
        "- Input: a = 1, b = 2, c = 5\n",
        "- Output: 0\n",
        "- Giải thích: Ba đoạn thẳng với độ dài 1, 2, 5 không thể tạo thành một tam giác\n",
        "\n",
        "Ví dụ 2:\n",
        "- Input: a = 4, b = 3, c = 6\n",
        "- Output: 3\n",
        "- Giải thích: Ba đoạn thẳng với độ dài 3, 4, 6 tạo thành một tam giác tù (có góc đối diện cạnh c > 90 độ)"
      ]
    },
    {
      "cell_type": "code",
      "execution_count": 26,
      "metadata": {
        "id": "51SwxQ4QW24f"
      },
      "outputs": [],
      "source": [
        "def get_triangle_type(a, b, c):\n",
        "    # co phai tam giac khong\n",
        "    if not (a + b > c and a + c > b and b + c > a):\n",
        "        return \"Khong phai tam giac\"\n",
        "    else:\n",
        "        if a == b == c:\n",
        "            return \"Tam giac deu\"\n",
        "        elif a == b or a == c or b == c:\n",
        "            return \"Tam giac can\"\n",
        "        elif a **2 + b**2 == c**2 or a **2 + c**2 == b**2 or c **2 + b**2 == a**2:\n",
        "            return \"Tam giac vuong\"\n",
        "        else:\n",
        "            return \"Tam giac thuong\""
      ]
    },
    {
      "cell_type": "code",
      "execution_count": 29,
      "metadata": {},
      "outputs": [
        {
          "data": {
            "text/plain": [
              "'Tam giac vuong'"
            ]
          },
          "execution_count": 29,
          "metadata": {},
          "output_type": "execute_result"
        }
      ],
      "source": [
        "get_triangle_type(3,4,5)"
      ]
    },
    {
      "cell_type": "markdown",
      "metadata": {
        "id": "K5raNzR5W24g"
      },
      "source": [
        "## Bài 4. Đèn Tắt Mở\n",
        "Cho một dãy *n* bóng đèn. Mỗi bóng đèn có 2 trạng thái là Tắt hoặc Mở. Có *n* công tắc có thể thay đổi trạng thái của bóng đèn tương ứng (từ Tắt thành Mở và ngược lại). Tìm số lần ấn công tắc ít nhất sao cho tất cả bóng đèn đều ở cùng một trạng thái (cùng tắt hoặc cùng mở).  \n",
        "**Input**: Mảng *0 < n < 10^8* phần tử boolean, với True tương ứng trạng thái mở và False tương đương trạng thái tắt.    \n",
        "**Output**: Một số nguyên duy nhất là số lần ấn công tắc ít nhất để tất cả bóng đèn về cùng một trạng thái.    \n",
        "**Ví dụ**:\n",
        "\n",
        "Ví dụ 1:\n",
        "- Input: n = 3, arr = [True, True, False]\n",
        "- Output: result = 1\n",
        "- Giải thích: Ấn công tắc cuối cùng để tất cả bóng đèn đều mở\n",
        "\n",
        "Ví dụ 2:\n",
        "- Input: n = 4, arr = [True, True, False, False]\n",
        "- Output: result = 2\n",
        "- Giải thích: Ấn hai công tắc đầu tiên hoặc hai công tắc cuối cùng."
      ]
    },
    {
      "cell_type": "code",
      "execution_count": 23,
      "metadata": {
        "id": "WmAs2HWyW24g"
      },
      "outputs": [],
      "source": [
        "def count_switches(arr):\n",
        "    return min(arr.count(True), arr.count(False))"
      ]
    },
    {
      "cell_type": "code",
      "execution_count": 25,
      "metadata": {},
      "outputs": [
        {
          "data": {
            "text/plain": [
              "1"
            ]
          },
          "execution_count": 25,
          "metadata": {},
          "output_type": "execute_result"
        }
      ],
      "source": [
        "count_switches([False, False, False, True, False])"
      ]
    }
  ],
  "metadata": {
    "colab": {
      "provenance": []
    },
    "kernelspec": {
      "display_name": "Python 3",
      "language": "python",
      "name": "python3"
    },
    "language_info": {
      "codemirror_mode": {
        "name": "ipython",
        "version": 3
      },
      "file_extension": ".py",
      "mimetype": "text/x-python",
      "name": "python",
      "nbconvert_exporter": "python",
      "pygments_lexer": "ipython3",
      "version": "3.11.5"
    }
  },
  "nbformat": 4,
  "nbformat_minor": 0
}
