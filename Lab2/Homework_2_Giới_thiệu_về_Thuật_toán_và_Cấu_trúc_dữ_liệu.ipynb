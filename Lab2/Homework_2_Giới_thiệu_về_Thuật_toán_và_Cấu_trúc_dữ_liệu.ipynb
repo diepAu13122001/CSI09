{
  "cells": [
    {
      "cell_type": "markdown",
      "metadata": {
        "id": "DW0HNAsAtZq9"
      },
      "source": [
        "## <center>Computer Science Intensive Course - MindX</center>\n",
        "![](./assets/logo.png)\n",
        "# <center>HOMEWORK 2. GIỚI THIỆU VỀ THUẬT TOÁN VÀ CẤU TRÚC DỮ LIỆU</center>"
      ]
    },
    {
      "cell_type": "markdown",
      "metadata": {
        "id": "XtKME0UktZrG"
      },
      "source": [
        "## Bài 1. Số Hoàn Hảo\n",
        "Số hoàn hảo là một số nguyên dương mà tổng các ước nhỏ hơn nó bằng chính nó.  \n",
        "**Input**: Một số nguyên *n > 0*.  \n",
        "**Output**: *n* có là số hoàn hảo hay không.  \n",
        "**Ví dụ**:\n",
        "\n",
        "Ví dụ 1:  \n",
        "- Input: n = 6\n",
        "- Output: 6 is a perfect number\n",
        "- Giải thích: Các ước của 6 nhỏ hơn chính nó là 1, 2, 3. Ta có 1+2+3 = 6\n",
        "\n",
        "Ví dụ 2:\n",
        "- Input: n = 10\n",
        "- Output: 10 is NOT a perfect number\n",
        "- Giải thích: Các ước của 10 nhỏ hơn chính nó là 1, 2, 5. Ta có 1+2+5 != 10"
      ]
    },
    {
      "cell_type": "code",
      "execution_count": 3,
      "metadata": {
        "id": "UOXK084onWyo"
      },
      "outputs": [
        {
          "data": {
            "text/plain": [
              "6"
            ]
          },
          "execution_count": 3,
          "metadata": {},
          "output_type": "execute_result"
        }
      ],
      "source": [
        "# kiem tra dau vao\n",
        "n = int(input())\n",
        "while n < 0:\n",
        "    n = int(input())\n",
        "n"
      ]
    },
    {
      "cell_type": "code",
      "execution_count": 8,
      "metadata": {},
      "outputs": [
        {
          "name": "stdout",
          "output_type": "stream",
          "text": [
            "6 is perfect number\n"
          ]
        }
      ],
      "source": [
        "my_sum = 0\n",
        "for i in range(1, n//2+1):\n",
        "    # chon so n chia het cho no\n",
        "    if (n%i == 0):\n",
        "        my_sum+= i\n",
        "\n",
        "# ket luan \n",
        "print(f'{n} is perfect number') if my_sum == n else print(f'{n} is NOT a perfect number')"
      ]
    },
    {
      "cell_type": "markdown",
      "metadata": {
        "id": "S6tpcKbbtZrJ"
      },
      "source": [
        "## Bài 2. Tổng Giai Thừa\n",
        "**Input**: Một số nguyên *n > 0*.  \n",
        "**Output**: Kết quả của biểu thức 1!+2!+3!+4!+…+N!.  \n",
        "**Ví dụ**:  \n",
        "- Input: n = 3\n",
        "- Output: result = 9\n",
        "- Giải thích: 1!+2!+3! = 1+2+6 = 9"
      ]
    },
    {
      "cell_type": "code",
      "execution_count": 9,
      "metadata": {},
      "outputs": [
        {
          "data": {
            "text/plain": [
              "3"
            ]
          },
          "execution_count": 9,
          "metadata": {},
          "output_type": "execute_result"
        }
      ],
      "source": [
        "# kiem tra dau vao\n",
        "n = int(input())\n",
        "while n < 0:\n",
        "    n = int(input())\n",
        "n"
      ]
    },
    {
      "cell_type": "code",
      "execution_count": 16,
      "metadata": {},
      "outputs": [
        {
          "data": {
            "text/plain": [
              "9"
            ]
          },
          "execution_count": 16,
          "metadata": {},
          "output_type": "execute_result"
        }
      ],
      "source": [
        "result = 0\n",
        "for i in range(1, n + 1):\n",
        "    _sub_rs = 1\n",
        "    for j in range(1, i+1):\n",
        "        _sub_rs *= j\n",
        "    result += _sub_rs\n",
        "result"
      ]
    },
    {
      "cell_type": "code",
      "execution_count": null,
      "metadata": {},
      "outputs": [],
      "source": []
    }
  ],
  "metadata": {
    "colab": {
      "provenance": []
    },
    "kernelspec": {
      "display_name": "Python 3",
      "language": "python",
      "name": "python3"
    },
    "language_info": {
      "codemirror_mode": {
        "name": "ipython",
        "version": 3
      },
      "file_extension": ".py",
      "mimetype": "text/x-python",
      "name": "python",
      "nbconvert_exporter": "python",
      "pygments_lexer": "ipython3",
      "version": "3.11.5"
    }
  },
  "nbformat": 4,
  "nbformat_minor": 0
}
