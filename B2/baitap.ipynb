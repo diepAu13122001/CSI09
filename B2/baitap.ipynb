{
 "cells": [
  {
   "cell_type": "markdown",
   "metadata": {},
   "source": [
    "# 1. Dãy Fibonacci\n",
    "Dãy Fibonacci là một dãy số nguyên dương bắt đầu với hai phần tử là [1, 1]. Các phần tử sau bằng tổng của hai phần tử trước đó.\n",
    "Một số phần tử đầu tiên của dãy Fibonacci:\n",
    "   1, 1, 2, 3, 5, 8, 13, 21, 34,...\n",
    "\n",
    "Yêu cầu: Nhập vào một số nguyên dương n > 0. In ra n phần tử đầu tiên của dãy Fibonacci."
   ]
  },
  {
   "cell_type": "code",
   "execution_count": null,
   "metadata": {},
   "outputs": [],
   "source": [
    "n = int(input())\n",
    "if n <= 0:\n",
    "    print(\"Nhap n > 0\")"
   ]
  },
  {
   "cell_type": "code",
   "execution_count": null,
   "metadata": {},
   "outputs": [],
   "source": [
    "# using list\n",
    "# Time complexity: O(n)\n",
    "# Space complexity: O(n)\n",
    "def fibo_1(num):\n",
    "    print(1, end=\" \")\n",
    "\n",
    "    if num == 1:\n",
    "        return\n",
    "\n",
    "    print(1, end=\" \")\n",
    "    fibo = [1, 1]\n",
    "    for _ in range(num - 2):\n",
    "        # add phan tu moi\n",
    "        fibo.append(fibo[-1] + fibo[-2])\n",
    "        print(fibo[-1], end=\" \")\n",
    "\n",
    "fibo_1(10)"
   ]
  },
  {
   "cell_type": "code",
   "execution_count": 1,
   "metadata": {},
   "outputs": [],
   "source": [
    "# not using list\n",
    "# Time complexity: O(n)\n",
    "# Space complexity: O(1)\n",
    "\n",
    "\n",
    "def fibo_2(num):\n",
    "    print(1, end=\" \")\n",
    "    if num == 1:\n",
    "        return\n",
    "\n",
    "    print(1, end=\" \")\n",
    "    i = 1\n",
    "    j = 1\n",
    "    for _ in range(num - 2):\n",
    "        i, j = j, i + j\n",
    "        print(j, end=\" \")\n",
    "\n",
    "\n",
    "fibo_2(10)"
   ]
  },
  {
   "cell_type": "markdown",
   "metadata": {},
   "source": [
    "# 2. Số nguyên tố\n",
    "Số nguyên tố là số nguyên dương lớn hơn 1 chỉ chia hết cho 1 và chính nó.\n",
    "Yêu cầu: Nhập vào một số nguyên dương n > 0. Kiểm tra n có phải là số nguyên tố hay không"
   ]
  },
  {
   "cell_type": "code",
   "execution_count": null,
   "metadata": {},
   "outputs": [],
   "source": [
    "# Check every possible divisor\n",
    "# Time complexity: O(n)\n",
    "# Space complexity: O(1)\n",
    "def is_prime_1(num):\n",
    "    if num == 1:\n",
    "        return False\n",
    "    \n",
    "    for i in range(2, num):\n",
    "        if num % i == 0:\n",
    "            return False\n",
    "        \n",
    "    return True"
   ]
  },
  {
   "cell_type": "code",
   "execution_count": 7,
   "metadata": {},
   "outputs": [
    {
     "data": {
      "text/plain": [
       "True"
      ]
     },
     "execution_count": 7,
     "metadata": {},
     "output_type": "execute_result"
    }
   ],
   "source": [
    "import math\n",
    "\n",
    "\n",
    "# Loop to sqrt(n)\n",
    "# Time complexity: O(sqrt(n)) = o(n^(1/2))\n",
    "def is_prime_2(num):\n",
    "    if num == 1:\n",
    "        return False\n",
    "\n",
    "    for i in range(2, int(math.sqrt(num)) + 1):\n",
    "        if num % i == 0:\n",
    "            return False\n",
    "\n",
    "    return True\n",
    "\n",
    "is_prime_2(9999937)"
   ]
  }
 ],
 "metadata": {
  "kernelspec": {
   "display_name": "Python 3",
   "language": "python",
   "name": "python3"
  },
  "language_info": {
   "codemirror_mode": {
    "name": "ipython",
    "version": 3
   },
   "file_extension": ".py",
   "mimetype": "text/x-python",
   "name": "python",
   "nbconvert_exporter": "python",
   "pygments_lexer": "ipython3",
   "version": "3.11.5"
  }
 },
 "nbformat": 4,
 "nbformat_minor": 2
}
