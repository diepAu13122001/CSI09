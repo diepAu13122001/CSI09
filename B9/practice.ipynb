{
 "cells": [
  {
   "cell_type": "code",
   "execution_count": 7,
   "metadata": {},
   "outputs": [],
   "source": [
    "from collections import deque\n",
    "from threading import Thread, Lock\n",
    "from time import sleep"
   ]
  },
  {
   "cell_type": "markdown",
   "metadata": {},
   "source": [
    "# Bai 1: kiem tra du ngoac trong bieu thuc"
   ]
  },
  {
   "cell_type": "code",
   "execution_count": 5,
   "metadata": {},
   "outputs": [],
   "source": [
    "def is_valid(sequence):\n",
    "    # kiem tra ngoai le\n",
    "    if len(sequence) == 0:\n",
    "        return\n",
    "\n",
    "    # khai bao 1 stack de giu cac ngoac da xet\n",
    "    stack = deque()\n",
    "    # duyet qua tung phan tu trong vong lap\n",
    "    for par in sequence:\n",
    "        if par == \"(\": # open par\n",
    "            stack.append(par)\n",
    "        elif par == \")\": # close par\n",
    "            if len(stack) > 0:\n",
    "                stack.pop() # remove open par matching with close par\n",
    "            else:\n",
    "                return False # du dau dong ngoac / dau dong ngoac nam truoc mo ngoac\n",
    "    \n",
    "    return len(stack) == 0 # neu = 0 => khong bi du dau mo ngoac"
   ]
  },
  {
   "cell_type": "code",
   "execution_count": null,
   "metadata": {},
   "outputs": [],
   "source": [
    "print(is_valid(\"(((((())))))\")) # true\n",
    "print(is_valid(\"(3*2) + (10*(12+4)\")) #false"
   ]
  },
  {
   "cell_type": "markdown",
   "metadata": {},
   "source": [
    "# Bai 2: To chuc hang doi "
   ]
  },
  {
   "cell_type": "code",
   "execution_count": null,
   "metadata": {},
   "outputs": [],
   "source": [
    "class Customer:\n",
    "    def __init__(self, cashier):\n",
    "        self.cashier = cashier\n",
    "\n",
    "    def create_order(self, order_name):\n",
    "        order_id = self.cashier.receive_order(order_name)\n",
    "        print(\"Order #{}: {} recorded.\".format(order_id, order_name))"
   ]
  },
  {
   "cell_type": "code",
   "execution_count": null,
   "metadata": {},
   "outputs": [],
   "source": [
    "class Cashier:\n",
    "    def __init__(self):\n",
    "        self.order_queue = deque()  # tao danh sach luu tru don da dat\n",
    "        self.order_count = 0\n",
    "\n",
    "    def set_chef(self, chef):\n",
    "        self.chef = chef\n",
    "\n",
    "    def receive_order(self, order_name):\n",
    "        self.order_count += 1  # cong don so thu tu cho danh sach\n",
    "        if not self.chef.receive_request((self.order_count, order_name)):\n",
    "            # kiem tra neu chef khong phuc vu => nau mon moi\n",
    "            self.order_queue.append((self.order_count, order_name))\n",
    "\n",
    "        return self.order_count  # tra so cho khach hang\n",
    "\n",
    "    def service_order(self, order):\n",
    "        print(\"==> Order #{}: {} served.\".format(order[0], order[1]))\n",
    "        \n",
    "        # kiem tra va add don tiep theo vao hang doi phuc vu\n",
    "        if len(self.order_queue) > 0 and self.chef.receive_request((self.order_queue[0])):\n",
    "            self.order_queue.popleft() # da phuc vu xong => out"
   ]
  },
  {
   "cell_type": "code",
   "execution_count": null,
   "metadata": {},
   "outputs": [],
   "source": [
    "class Chef:\n",
    "    def __init__(self, cashier):\n",
    "        self.__lock = Lock()  # bien private (khong co quyen truy cap ngoai class)\n",
    "        self.cashier = cashier\n",
    "\n",
    "    def receive_request(self, order):\n",
    "        busy = self.__lock.locked()\n",
    "        if not busy:\n",
    "            thread = Thread(target=self.__make_order, args=(order))  # tao luong\n",
    "            thread.start()  # chay luong\n",
    "        return not busy\n",
    "\n",
    "    # ham private (ngoai class Chef khong duoc goi den)\n",
    "    def __make_order(self, order):\n",
    "        self.__lock.acquire()\n",
    "        sleep(1)  # moi mon phuc vu trong 1 giay\n",
    "        self.__lock.release()\n",
    "        self.cashier.service_order(order)"
   ]
  },
  {
   "cell_type": "code",
   "execution_count": null,
   "metadata": {},
   "outputs": [],
   "source": [
    "# init objects\n",
    "cashier = Cashier()\n",
    "chef = Chef(cashier)\n",
    "cashier.set_chef(chef)\n",
    "customer = Customer(cashier)\n",
    "\n",
    "# simulation\n",
    "customer.order(\"Vietnamese Coffee\")\n",
    "customer.order(\"Capuchino\")\n",
    "sleep(3)\n",
    "customer.order(\"Latte\")\n",
    "sleep(2)\n",
    "customer.order(\"Mocha\")"
   ]
  }
 ],
 "metadata": {
  "kernelspec": {
   "display_name": "Python 3",
   "language": "python",
   "name": "python3"
  },
  "language_info": {
   "codemirror_mode": {
    "name": "ipython",
    "version": 3
   },
   "file_extension": ".py",
   "mimetype": "text/x-python",
   "name": "python",
   "nbconvert_exporter": "python",
   "pygments_lexer": "ipython3",
   "version": "3.11.5"
  }
 },
 "nbformat": 4,
 "nbformat_minor": 2
}
