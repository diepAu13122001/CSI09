{
 "cells": [
  {
   "cell_type": "markdown",
   "metadata": {},
   "source": [
    "# 1. Thành phần cơ bản\n"
   ]
  },
  {
   "cell_type": "markdown",
   "metadata": {},
   "source": [
    "## 1.1 Input + output\n"
   ]
  },
  {
   "cell_type": "code",
   "execution_count": 2,
   "metadata": {},
   "outputs": [
    {
     "name": "stdout",
     "output_type": "stream",
     "text": [
      "Tên bạn là: diep\n"
     ]
    }
   ],
   "source": [
    "# Nhập vào tên 1 người, in lại tên người đó\n",
    "print(\"Tên bạn là:\", input(\"Your name: \"))"
   ]
  },
  {
   "cell_type": "markdown",
   "metadata": {},
   "source": [
    "## 1.2 Biến và hằng\n"
   ]
  },
  {
   "cell_type": "code",
   "execution_count": 4,
   "metadata": {},
   "outputs": [
    {
     "data": {
      "text/plain": [
       "10"
      ]
     },
     "execution_count": 4,
     "metadata": {},
     "output_type": "execute_result"
    }
   ],
   "source": [
    "# bien so\n",
    "a = 10\n",
    "a  # tự print giá trị của biến (mỗi đoạn code chỉ print được biến được gọi cuối cùng)"
   ]
  },
  {
   "cell_type": "code",
   "execution_count": 5,
   "metadata": {},
   "outputs": [
    {
     "data": {
      "text/plain": [
       "3.14"
      ]
     },
     "execution_count": 5,
     "metadata": {},
     "output_type": "execute_result"
    }
   ],
   "source": [
    "# hằng số (giống cách khai báo với biến số)\n",
    "PI = 3.14\n",
    "PI"
   ]
  },
  {
   "cell_type": "markdown",
   "metadata": {},
   "source": [
    "## 1.3 Kiểu dữ liệu + chuyển kiểu\n"
   ]
  },
  {
   "cell_type": "code",
   "execution_count": 6,
   "metadata": {},
   "outputs": [],
   "source": [
    "var_int = 3\n",
    "var_float = 1.3\n",
    "var_boolean = True\n",
    "\n",
    "var_string = \"Hello world\"\n",
    "var_string2 = \"a\"  # character"
   ]
  },
  {
   "cell_type": "markdown",
   "metadata": {},
   "source": [
    "Cách xem kiểu dữ liệu của 1 biến\n"
   ]
  },
  {
   "cell_type": "code",
   "execution_count": 7,
   "metadata": {},
   "outputs": [
    {
     "data": {
      "text/plain": [
       "str"
      ]
     },
     "execution_count": 7,
     "metadata": {},
     "output_type": "execute_result"
    }
   ],
   "source": [
    "type(var_string)"
   ]
  },
  {
   "cell_type": "markdown",
   "metadata": {},
   "source": [
    "** Không cần xác định kiểu dữ liệu khi khởi tạo biến -> có thể thay đổi kiểu dữ liệu của biến đã tạo.\n",
    "** Tên biến giống \"nhãn dán\" trên dữ liệu được lưu trong bộ nhớ -> thay đổi giá trị biến -> chuyển nhãn dán từ vị trí khác trong bộ nhớ.\n"
   ]
  },
  {
   "cell_type": "code",
   "execution_count": 10,
   "metadata": {},
   "outputs": [
    {
     "data": {
      "text/plain": [
       "'123'"
      ]
     },
     "execution_count": 10,
     "metadata": {},
     "output_type": "execute_result"
    }
   ],
   "source": [
    "str1 = \"abc\"\n",
    "str1 = \"123\"\n",
    "str1"
   ]
  },
  {
   "cell_type": "markdown",
   "metadata": {},
   "source": [
    "Chuyển kiểu dữ liệu\n"
   ]
  },
  {
   "cell_type": "code",
   "execution_count": 12,
   "metadata": {},
   "outputs": [
    {
     "data": {
      "text/plain": [
       "1"
      ]
     },
     "execution_count": 12,
     "metadata": {},
     "output_type": "execute_result"
    }
   ],
   "source": [
    "# int - float\n",
    "var1 = 1.9\n",
    "int(var1)  # chi lay phan nguyen (lam tron xuong)"
   ]
  },
  {
   "cell_type": "code",
   "execution_count": 14,
   "metadata": {},
   "outputs": [
    {
     "data": {
      "text/plain": [
       "123.1"
      ]
     },
     "execution_count": 14,
     "metadata": {},
     "output_type": "execute_result"
    }
   ],
   "source": [
    "# str - int/ float\n",
    "var2 = \"123.1\"\n",
    "# int(var2) (loi do khong xac dinh duoc '.')\n",
    "float(var2)"
   ]
  },
  {
   "cell_type": "code",
   "execution_count": 16,
   "metadata": {},
   "outputs": [
    {
     "data": {
      "text/plain": [
       "True"
      ]
     },
     "execution_count": 16,
     "metadata": {},
     "output_type": "execute_result"
    }
   ],
   "source": [
    "# str - bool\n",
    "var3 = \"true\"\n",
    "bool(var3)"
   ]
  },
  {
   "cell_type": "markdown",
   "metadata": {},
   "source": [
    "## 1.4 Phép toán\n"
   ]
  },
  {
   "cell_type": "markdown",
   "metadata": {},
   "source": [
    "### a. phép toán toán học\n"
   ]
  },
  {
   "cell_type": "code",
   "execution_count": 18,
   "metadata": {},
   "outputs": [
    {
     "name": "stdout",
     "output_type": "stream",
     "text": [
      "Cộng 19.3\n",
      "Trừ 6.7\n",
      "Nhân 37.8\n",
      "Chia 2.0634920634920637\n",
      "Chia lấy phần nguyên 2\n",
      "Chia lấy phần dư 0.2999999999999998\n",
      "Mũ 62523.50220899999\n"
     ]
    }
   ],
   "source": [
    "num1 = 13\n",
    "num2 = 6.3\n",
    "num3 = 6\n",
    "\n",
    "print(\"Cộng\", num1 + num2)\n",
    "print(\"Trừ\", num1 - num2)\n",
    "print(\"Nhân\", num2 * num3)\n",
    "print(\"Chia\", num1 / num2)\n",
    "print(\"Chia lấy phần nguyên\", num1 // num3)  # python 3\n",
    "print(\"Chia lấy phần dư\", num2 % num3)\n",
    "print(\"Mũ\", num2**num3)"
   ]
  },
  {
   "cell_type": "markdown",
   "metadata": {},
   "source": [
    "### b. Phép toán so sánh + logic\n"
   ]
  },
  {
   "cell_type": "code",
   "execution_count": 19,
   "metadata": {},
   "outputs": [
    {
     "name": "stdout",
     "output_type": "stream",
     "text": [
      "AND False\n",
      "OR False\n",
      "NOT False\n"
     ]
    }
   ],
   "source": [
    "print(\"AND\", num1 > num2 and num1 == num3)\n",
    "print(\"OR\", num1 <= num2 or num1 == num3)\n",
    "print(\"NOT\", not num1 >= num2)"
   ]
  },
  {
   "cell_type": "markdown",
   "metadata": {},
   "source": [
    "## 1.5 Hàm (function - def)\n",
    "\n",
    "- Hàm trả về (có return)\n",
    "- Hàm không có trả về (không return)\n",
    "- Hàm có tham số truyền vào - đối số\n",
    "- Hàm không có tham số truyền vào\n"
   ]
  },
  {
   "cell_type": "code",
   "execution_count": null,
   "metadata": {},
   "outputs": [],
   "source": [
    "def sum_1(a, b):\n",
    "    return a + b"
   ]
  },
  {
   "cell_type": "code",
   "execution_count": 2,
   "metadata": {},
   "outputs": [
    {
     "name": "stdout",
     "output_type": "stream",
     "text": [
      "str1str2\n",
      "68\n"
     ]
    }
   ],
   "source": [
    "sum_f = lambda a, b: a + b  # hàm có trả về + chỉ 1 dòng xử lý\n",
    "print(sum_f(\"str1\", \"str2\"))\n",
    "print(sum_f(12, 56))"
   ]
  },
  {
   "cell_type": "code",
   "execution_count": 6,
   "metadata": {},
   "outputs": [
    {
     "name": "stdout",
     "output_type": "stream",
     "text": [
      "abc\n",
      "Diep\n"
     ]
    }
   ],
   "source": [
    "# tham so truyen vao mac dinh\n",
    "def printName(name=\"abc\"):\n",
    "    print(name)\n",
    "\n",
    "\n",
    "printName()\n",
    "printName(\"Diep\")"
   ]
  },
  {
   "cell_type": "markdown",
   "metadata": {},
   "source": [
    "## 1.6 Module\n",
    "\n",
    "Code Python có thể được đóng gói thành module và được sử dụng bởi các file python khác bằng cách import.\n",
    "Module có sẵn được gọi là thư viện\n"
   ]
  },
  {
   "cell_type": "code",
   "execution_count": 8,
   "metadata": {},
   "outputs": [
    {
     "name": "stdout",
     "output_type": "stream",
     "text": [
      "120\n",
      "sin 1.0\n"
     ]
    }
   ],
   "source": [
    "# use the math library\n",
    "import math\n",
    "\n",
    "print(math.factorial(5))  # giai thua\n",
    "print(\"sin\", math.sin(math.pi / 2))"
   ]
  },
  {
   "cell_type": "code",
   "execution_count": 15,
   "metadata": {},
   "outputs": [],
   "source": [
    "# use my modules\n",
    "import a\n",
    "import b"
   ]
  },
  {
   "cell_type": "markdown",
   "metadata": {},
   "source": [
    "# 2. Cấu trúc điều khiển\n"
   ]
  },
  {
   "cell_type": "markdown",
   "metadata": {},
   "source": [
    "## 2.1 Câu điều kiện\n"
   ]
  },
  {
   "cell_type": "code",
   "execution_count": 17,
   "metadata": {},
   "outputs": [
    {
     "name": "stdout",
     "output_type": "stream",
     "text": [
      "a\n",
      "a\n"
     ]
    }
   ],
   "source": [
    "# Cách viết tắt\n",
    "print(\"a\") if 3 < 4 else print(\"b\")\n",
    "# Cách viết thường\n",
    "if 1 < 3 < 4:\n",
    "    print(\"a\")\n",
    "else:\n",
    "    print(\"b\")"
   ]
  },
  {
   "cell_type": "markdown",
   "metadata": {},
   "source": [
    "## 2.2 Vòng lặp for\n",
    "\n",
    "- range(start, end, stop)\n",
    "- for lặp theo range\n",
    "- for duyệt qua phần tử\n"
   ]
  },
  {
   "cell_type": "code",
   "execution_count": 19,
   "metadata": {},
   "outputs": [
    {
     "name": "stdout",
     "output_type": "stream",
     "text": [
      "1\n",
      "3\n",
      "5\n",
      "7\n",
      "9\n"
     ]
    },
    {
     "data": {
      "text/plain": [
       "[1, 3, 5, 7, 9]"
      ]
     },
     "execution_count": 19,
     "metadata": {},
     "output_type": "execute_result"
    }
   ],
   "source": [
    "# Cách viết thường\n",
    "for i in range(1, 11, 2):\n",
    "    print(i)\n",
    "# Cách viết tắt\n",
    "listNum = [i for i in range(1, 11, 2)]\n",
    "listNum"
   ]
  },
  {
   "cell_type": "code",
   "execution_count": 21,
   "metadata": {},
   "outputs": [
    {
     "name": "stdout",
     "output_type": "stream",
     "text": [
      "n\n",
      "g\n",
      "u\n",
      "y\n",
      "e\n",
      "n\n",
      " \n",
      "v\n",
      "n\n",
      " \n"
     ]
    },
    {
     "data": {
      "text/plain": [
       "['n', 'g', 'u', 'y', 'e', 'n', ' ', 'v', 'n', ' ']"
      ]
     },
     "execution_count": 21,
     "metadata": {},
     "output_type": "execute_result"
    }
   ],
   "source": [
    "# Cách viết thường\n",
    "for char in \"nguyen van a\":\n",
    "    if char != \"a\":\n",
    "        print(char)\n",
    "# Cách viết tắt\n",
    "characterList = [char for char in \"nguyen van a\" if char != \"a\"]\n",
    "characterList"
   ]
  },
  {
   "cell_type": "code",
   "execution_count": 23,
   "metadata": {},
   "outputs": [
    {
     "name": "stdout",
     "output_type": "stream",
     "text": [
      "Số lẻ: 1\n",
      "Số lẻ: 3\n",
      "Số lẻ: 5\n",
      "Số lẻ: 7\n",
      "Số lẻ: 9\n"
     ]
    },
    {
     "data": {
      "text/plain": [
       "[0, None, 2, None, 4, None, 6, None, 8, None]"
      ]
     },
     "execution_count": 23,
     "metadata": {},
     "output_type": "execute_result"
    }
   ],
   "source": [
    "# Kết hợp if - else + for\n",
    "numList = [i if i % 2 == 0 else print(\"Số lẻ:\", i) for i in range(10)]\n",
    "numList"
   ]
  },
  {
   "cell_type": "markdown",
   "metadata": {},
   "source": [
    "## 2.3 Vòng lặp while\n",
    "\n",
    "- Chú ý không đặt điều kiện trả về true hoàn toàn => vòng lặp vô hạn\n"
   ]
  },
  {
   "cell_type": "code",
   "execution_count": 24,
   "metadata": {},
   "outputs": [
    {
     "name": "stdout",
     "output_type": "stream",
     "text": [
      "12\n",
      "11\n"
     ]
    }
   ],
   "source": [
    "i = 12\n",
    "while i > 10:  # nếu điều kiện trả về false -> dừng\n",
    "    print(i)\n",
    "    i -= 1"
   ]
  },
  {
   "cell_type": "markdown",
   "metadata": {},
   "source": [
    "## 2.3 Xử lý exception\n"
   ]
  },
  {
   "cell_type": "markdown",
   "metadata": {},
   "source": [
    "### a. Cấu trúc **Try ... except...**\n"
   ]
  },
  {
   "cell_type": "code",
   "execution_count": null,
   "metadata": {},
   "outputs": [],
   "source": [
    "# no try - except\n",
    "var1 = int(\"123.0\")"
   ]
  },
  {
   "cell_type": "code",
   "execution_count": 25,
   "metadata": {},
   "outputs": [
    {
     "name": "stdout",
     "output_type": "stream",
     "text": [
      "throw an exception\n"
     ]
    }
   ],
   "source": [
    "try:\n",
    "    var1 = int(\"123.0\")\n",
    "except:\n",
    "    print(\"throw an exception\")"
   ]
  },
  {
   "cell_type": "code",
   "execution_count": 28,
   "metadata": {},
   "outputs": [
    {
     "name": "stdout",
     "output_type": "stream",
     "text": [
      "throw a value error\n"
     ]
    }
   ],
   "source": [
    "try:\n",
    "    var1 = int(\"123.0\")\n",
    "except ValueError:  # catch a specific exception\n",
    "    print(\"throw a value error\")\n",
    "except:  # phan con lai\n",
    "    print(\"other exception\")"
   ]
  },
  {
   "cell_type": "markdown",
   "metadata": {},
   "source": [
    "### b. Cấu trúc **Try ... except...finally...**\n"
   ]
  },
  {
   "cell_type": "code",
   "execution_count": 32,
   "metadata": {},
   "outputs": [
    {
     "name": "stdout",
     "output_type": "stream",
     "text": [
      "No file\n",
      "closed this file\n"
     ]
    }
   ],
   "source": [
    "f = None\n",
    "try:\n",
    "    f = open(\"demofile.txt\", \"r\")\n",
    "    print(f.readline())  # print first line in file\n",
    "except:\n",
    "    print(\"No file\")\n",
    "finally:\n",
    "    if f != None:\n",
    "        f.close()\n",
    "    print(\"closed this file\")"
   ]
  },
  {
   "cell_type": "markdown",
   "metadata": {},
   "source": [
    "# 3. OOP\n",
    "* Python là một ngôn ngữ lập trình theo hướng đối tượng (Object oriented programming)\n",
    "* OOP cho phép lập trình viên tạo ra các đối tượng trừu tượng nhằm làm code đơn giản, dễ đọc, dễ bảo trì."
   ]
  },
  {
   "cell_type": "markdown",
   "metadata": {},
   "source": [
    "## 3.1 Class + Object"
   ]
  },
  {
   "cell_type": "code",
   "execution_count": 1,
   "metadata": {},
   "outputs": [],
   "source": [
    "# Tao class\n",
    "class Person:\n",
    "    race = \"human\" # class attribute\n",
    "    def __init__(self, name, age):\n",
    "        self.name = name\n",
    "        self.age = age\n",
    "        \n",
    "    def say_hi(self):\n",
    "        print(\"Hello my name is: \" + self.name)\n",
    "        \n",
    "    @classmethod\n",
    "    def a(cls):\n",
    "        print(cls.race)"
   ]
  },
  {
   "cell_type": "code",
   "execution_count": null,
   "metadata": {},
   "outputs": [],
   "source": [
    "# tao object\n",
    "join = Person(\"JOIN\", 25)\n",
    "join.say_hi()\n",
    "Person.race"
   ]
  },
  {
   "cell_type": "markdown",
   "metadata": {},
   "source": [
    "### Thuộc tính Public và Private"
   ]
  },
  {
   "cell_type": "code",
   "execution_count": null,
   "metadata": {},
   "outputs": [],
   "source": [
    "# Tao class\n",
    "class Person:\n",
    "    race = \"human\" # class attribute\n",
    "    def __init__(self, name, age):\n",
    "        self.__name = name # private attribute\n",
    "        self.age = age # public attribute\n",
    "        \n",
    "    def say_hi(self):\n",
    "        print(\"Hello my name is: \" + self.__name)\n",
    "        \n",
    "    def __get_next_age(self):\n",
    "        return self.age + 1\n",
    "        \n",
    "obj1 = Person(\"ABC\", 30)\n",
    "obj1.__name\n",
    "obj1.__get_next_age()"
   ]
  },
  {
   "cell_type": "markdown",
   "metadata": {},
   "source": [
    "## 3.2 Tính kế thừa (Inheritance)"
   ]
  },
  {
   "cell_type": "code",
   "execution_count": 14,
   "metadata": {},
   "outputs": [],
   "source": [
    "# tao sub class\n",
    "class Student(Person):\n",
    "    def __init__(self, name, age):\n",
    "        super().__init__(name, age)\n",
    "        # print(self.__get_next_age()) # private -> ke thua khong su dung duoc\n",
    "\n",
    "# tao student object\n",
    "std1 = Student(\"ABC\", 15)"
   ]
  }
 ],
 "metadata": {
  "kernelspec": {
   "display_name": "Python 3",
   "language": "python",
   "name": "python3"
  },
  "language_info": {
   "codemirror_mode": {
    "name": "ipython",
    "version": 3
   },
   "file_extension": ".py",
   "mimetype": "text/x-python",
   "name": "python",
   "nbconvert_exporter": "python",
   "pygments_lexer": "ipython3",
   "version": "3.11.5"
  }
 },
 "nbformat": 4,
 "nbformat_minor": 2
}
