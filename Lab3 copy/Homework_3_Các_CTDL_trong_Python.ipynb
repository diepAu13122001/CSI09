{
  "cells": [
    {
      "cell_type": "markdown",
      "metadata": {
        "id": "xbrZB6NWS8B3"
      },
      "source": [
        "## <center>Computer Science Intensive Course - MindX</center>\n",
        "![](./assets/logo.png)\n",
        "# <center>HOMEWORK 3. CÁC CẤU TRÚC DỮ LIỆU TRONG PYTHON</center>"
      ]
    },
    {
      "cell_type": "markdown",
      "metadata": {
        "id": "0-wDz0JJS8B6"
      },
      "source": [
        "## Bài Tập: Bỏ Phiếu\n",
        "\n",
        "Đầu năm học, một lớp học bỏ phiếu bầu lớp trưởng bằng hình thức sau: Mỗi học sinh có 3 phiếu để bầu cho 3 học sinh khác nhau, học sinh nào được tổng số phiếu bầu chọn nhiều nhất sẽ trở thành lớp trưởng.  \n",
        "\n",
        "Quy tắc bỏ phiếu:\n",
        "- Một học sinh có thể bỏ phiếu cho chính mình.\n",
        "- Một học sinh không thể bầu nhiều hơn một phiếu cho cùng một người. Nếu nhiều hơn thì chỉ tính một phiếu.\n",
        "- Học sinh có quyền không bỏ phiếu hoặc không dùng hết 3 phiếu.\n",
        "- Một học sinh chỉ được phát 3 phiếu nên không thể bỏ nhiều hơn 3 (đảm bảo trong input).\n",
        "\n",
        "**Input**: Nội dung các phiếu bầu trong lớp dưới dạng (STT người bỏ phiếu, STT người được bầu)  \n",
        "**Output**: STT của một hoặc các học sinh được bầu nhiều phiếu nhất và số phiếu được bầu.  \n",
        "**Ví dụ**:  \n",
        "- Input: (1, 2), (1, 3), (1, 4), (2, 2), (5, 1), (5, 1), (5, 3)\n",
        "- Output: STT: 2, 3 | Số phiếu: 2\n",
        "- Giải thích: Hai học sinh có STT 2 và 5 đều được nhận 2 phiếu. Học sinh 1 cũng được nhận 2 phiếu nhưng bị trùng lắp nên chỉ nhận 1 phiếu thực tế."
      ]
    },
    {
      "cell_type": "code",
      "execution_count": 2,
      "metadata": {},
      "outputs": [
        {
          "name": "stdout",
          "output_type": "stream",
          "text": [
            "ID(s): [2, 3] | count: 2\n"
          ]
        }
      ],
      "source": [
        "def get_president(ballot_list):\n",
        "    # b1: chuyen sang set -> xoa phan tu trung lap\n",
        "    ballot_list = set(ballot_list)\n",
        "    count = {}\n",
        "    current_max = 0\n",
        "    current_presidents = []\n",
        "\n",
        "    for _, receiver in ballot_list:\n",
        "        #  dem so phieu bau cua tung nguoi\n",
        "        count[receiver] = count.get(receiver, 0) + 1\n",
        "\n",
        "        # check if reached current max\n",
        "        if count[receiver] == current_max:\n",
        "            current_presidents += [receiver]\n",
        "        elif count[receiver] > current_max:\n",
        "            current_max += 1\n",
        "            current_presidents = [receiver]\n",
        "\n",
        "    print(\"ID(s): {} | count: {}\".format(current_presidents, current_max))\n",
        "\n",
        "\n",
        "get_president([(1, 2), (1, 3), (1, 4), (2, 2), (5, 1), (5, 1), (5, 3)])"
      ]
    }
  ],
  "metadata": {
    "colab": {
      "provenance": []
    },
    "kernelspec": {
      "display_name": "Python 3",
      "language": "python",
      "name": "python3"
    },
    "language_info": {
      "codemirror_mode": {
        "name": "ipython",
        "version": 3
      },
      "file_extension": ".py",
      "mimetype": "text/x-python",
      "name": "python",
      "nbconvert_exporter": "python",
      "pygments_lexer": "ipython3",
      "version": "3.11.5"
    }
  },
  "nbformat": 4,
  "nbformat_minor": 0
}
