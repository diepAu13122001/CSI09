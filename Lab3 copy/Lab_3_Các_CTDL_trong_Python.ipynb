{
  "cells": [
    {
      "cell_type": "markdown",
      "metadata": {
        "id": "rHIlOkh2Zy9F"
      },
      "source": [
        "## <center>Computer Science Intensive Course - MindX</center>\n",
        "\n",
        "![](./assets/logo.png)\n",
        "\n",
        "# <center>LAB 3. CÁC CTDL TRONG PYTHON</center>\n"
      ]
    },
    {
      "cell_type": "markdown",
      "metadata": {
        "id": "RFScUXegZy9Q"
      },
      "source": [
        "## Bài 1. Lọc Từ\n",
        "\n",
        "Cho một đoạn văn gồm nhiều từ và dấu câu, mỗi từ trong đoạn văn cách nhau bằng ít nhất một dấu cách. Lọc ra các từ đã xuất hiện trong đoạn văn và sắp xếp theo thứ tự bảng chữ cái (không phân biệt chữ hoa và thường).\n",
        "\n",
        "**Input**: Một đoạn văn dưới dạng _str_ với độ dài < 10^6 ký tự.  \n",
        "**Output**: Một _list_ chứa các từ đã xuất hiện trong đoạn văn theo thứ tự bảng chữ cái. Trả về _list_ rỗng nếu không có từ nào.  \n",
        "**Ví dụ**:\n",
        "\n",
        "- Input: \"The cat is chasing the rat. The dog is also chasing the rat.\"\n",
        "- Output: ['cat', 'chasing', 'is', 'rat', 'the']\n",
        "- Giải thích: Output là các từ đã xuất hiện trong đoạn văn được sắp xếp theo bảng chữ cái. Các từ 'is' và 'the' xuất hiện nhiều lần được lọc ra.\n",
        "\n",
        "**Gợi ý**: Lọc các ký tự đặc biệt\n"
      ]
    },
    {
      "cell_type": "code",
      "execution_count": null,
      "metadata": {
        "id": "wSHZM9PHZy9T",
        "outputId": "8ea279bf-2f89-4479-b7b0-86bac2e938cc"
      },
      "outputs": [
        {
          "data": {
            "text/plain": [
              "'Thecatischasingtherat'"
            ]
          },
          "execution_count": 28,
          "metadata": {},
          "output_type": "execute_result"
        }
      ],
      "source": [
        "string = \"The cat is chasing the rat.\"\n",
        "\"\".join(c for c in string if c.isalpha())"
      ]
    },
    {
      "cell_type": "code",
      "execution_count": 3,
      "metadata": {
        "id": "XBF5bS5vZy9W"
      },
      "outputs": [
        {
          "data": {
            "text/plain": [
              "['the', 'is', 'also', 'chasing', 'cat', 'dog', 'rat']"
            ]
          },
          "execution_count": 3,
          "metadata": {},
          "output_type": "execute_result"
        }
      ],
      "source": [
        "def filter_word(inp_str):\n",
        "    # cat chuoi thanh tung chu (van con ki tu dac biet)\n",
        "    str_list = inp_str.lower().split(\" \")\n",
        "    # xoa phan tu trung lap\n",
        "    str_list = set(str_list)  # [\"rat.\", \"the\", \"is\"]\n",
        "    results = set()\n",
        "    # bo ki tu dac biet\n",
        "    for word in str_list:\n",
        "        # loc ki tu dac biet trong tung chu\n",
        "        final_word = \"\".join(c for c in word if c.isalpha())\n",
        "        results.add(final_word)\n",
        "\n",
        "    return list(results)\n",
        "\n",
        "\n",
        "filter_word(\"The cat is chasing the rat. The dog is also chasing the rat.\")"
      ]
    },
    {
      "cell_type": "markdown",
      "metadata": {
        "id": "dPk4PSKUZy9Z"
      },
      "source": [
        "## Bài 2. Cắt Chữ\n",
        "\n",
        "Cho một đoạn văn gồm nhiều từ và dấu câu. Mỗi từ trong đoạn văn cách nhau bằng ít nhất một dấu cách. Đoạn văn này được hiển thị trên màn hình có độ rộng _k_ ký tự. Hãy cắt đoạn văn này thành những chuỗi nhỏ hơn sao cho:\n",
        "\n",
        "- Mỗi chuỗi là dài nhất có thể\n",
        "- Mỗi chuỗi không được dài hơn k ký tự.\n",
        "- Không từ nào bị cắt ở giữa (VD không được cắt \"MindX Technology School.\" thành \"MindX Tech\" và \"nology School.\")\n",
        "- Không có dấu cách ở đầu và cuối chuỗi đã cắt (VD có thể cắt \"MindX Technology School.\" thành \"MindX Technology\" và \"School.\")\n",
        "\n",
        "**Input**: Một đoạn văn dưới dạng _str_ với độ dài < 10^6 ký tự và một số nguyên _0 < k < 50_. Không từ nào dài hơn k.  \n",
        "**Output**: Trả về một list các chuỗi đã cắt.  \n",
        "**Ví dụ**:\n",
        "\n",
        "- Input: \"The cat is chasing the rat. The dog is also chasing the rat.\", k=10\n",
        "- Output: ['The cat is', 'chasing', 'the rat.', 'The dog is', 'also', 'chasing', 'the rat.']\n"
      ]
    },
    {
      "cell_type": "code",
      "execution_count": 10,
      "metadata": {
        "id": "eUAkw7ksZy9b"
      },
      "outputs": [
        {
          "data": {
            "text/plain": [
              "['The cat is', 'chasing the', 'rat. The dog', 'is also chasing', 'the rat.']"
            ]
          },
          "execution_count": 10,
          "metadata": {},
          "output_type": "execute_result"
        }
      ],
      "source": [
        "def wrap_text(inp_str, k):\n",
        "    # cat chuoi thanh tung chu (van con ki tu dac biet)\n",
        "    str_list = inp_str.split(\" \")\n",
        "    results = []\n",
        "    count = 0\n",
        "    temp_str = \"\"\n",
        "    for i, word in enumerate(str_list):\n",
        "        count += len(word) + 1\n",
        "        temp_str += word + \" \"\n",
        "        if count > k or i == len(str_list) - 1:\n",
        "            results.append(temp_str[:-1])\n",
        "            count = 0\n",
        "            temp_str = \"\"\n",
        "\n",
        "    return results\n",
        "\n",
        "\n",
        "wrap_text(\"The cat is chasing the rat. The dog is also chasing the rat.\", 10)"
      ]
    },
    {
      "cell_type": "markdown",
      "metadata": {
        "id": "AwaWsPTHZy9d"
      },
      "source": [
        "## Bài 3. Phần Tử Bất Thường\n",
        "\n",
        "Cho hai _list_ giống nhau về các phần tử nhưng khác nhau về thứ tự. Các phần tử trong _list_ không trùng nhau. Tuy nhiên do sự cố, một trong hai list bị dư một phần tử lạ không trùng với các phần tử khác. Hãy tìm giá trị của phần tử đó.\n",
        "\n",
        "**Input**: Hai list số nguyên có độ dài _n_ và _n+1_ (hoặc _n+1_ và _n_) với _0 < n < 10^6_.  \n",
        "**Output**: Một số nguyên là giá trị của phần tử bất thường.  \n",
        "**Ví dụ**:\n",
        "\n",
        "- Input: [1, 4, 5, 7, 9], [7, 4, 1, 9]\n",
        "- Output: 5\n"
      ]
    },
    {
      "cell_type": "code",
      "execution_count": null,
      "metadata": {
        "id": "DTN1RafPZy9e"
      },
      "outputs": [],
      "source": [
        "def find_anomaly(list_1, list_2):\n",
        "    pass"
      ]
    },
    {
      "cell_type": "markdown",
      "metadata": {
        "id": "fmkGM_BkZy9h"
      },
      "source": [
        "## Bài 4. Tổng Đường Chéo\n",
        "\n",
        "Cho một ma trận với _n_ dòng và _n_ cột. Hãy tính tổng các giá trị trên hai đường chéo của ma trận.\n",
        "\n",
        "**Input**: Ma trận _n x n_ dưới dạng _list lồng nhau_, với _0 < n < 1000_. Mỗi phần tử trong khoảng [-10^6, 10^6]  \n",
        "**Output**: Một _tuple_ bao gồm hai giá trị là tổng các giá trị trên đường chéo chính và đường chéo phụ, theo thứ tự.  \n",
        "**Ví dụ**:\n",
        "\n",
        "- Input:  \n",
        "   [[1, 2, 3],  \n",
        "&nbsp;[4, 5, 6],  \n",
        "&nbsp;[7, 8, 9]]\n",
        "- Output: (15, 15)\n",
        "- Giải thích: Tổng trên đường chéo chính là 1+5+9 = 15; trên đường chéo phụ là 3+5+7 = 15\n",
        "\n",
        "**Gợi ý**:\n",
        "Trong Python, ma trận có thể được lưu trữ dưới dạng _list lồng nhau_, tức các phần tử trong _list_ là các _list_ khác, mỗi _list_ phần tử có cùng độ dài.  \n",
        "Cách truy vấn:\n"
      ]
    },
    {
      "cell_type": "code",
      "execution_count": 2,
      "metadata": {
        "id": "NXeinSaiZy9h",
        "outputId": "fd7bea82-994c-4a6d-e0f6-1b97c347936a"
      },
      "outputs": [
        {
          "name": "stdout",
          "output_type": "stream",
          "text": [
            "Second row: [4, 5, 6]\n",
            "Element at row 0, column 1: 2\n"
          ]
        }
      ],
      "source": [
        "matrix = [[1, 2, 3], [4, 5, 6], [7, 8, 9]]\n",
        "\n",
        "print(\"Second row: {}\".format(matrix[1]))\n",
        "print(\"Element at row 0, column 1: {}\".format(matrix[0][1]))"
      ]
    },
    {
      "cell_type": "code",
      "execution_count": 5,
      "metadata": {
        "id": "QJKBiNfjZy9i"
      },
      "outputs": [
        {
          "data": {
            "text/plain": [
              "(15, 15)"
            ]
          },
          "execution_count": 5,
          "metadata": {},
          "output_type": "execute_result"
        }
      ],
      "source": [
        "def sum_diagonals(matrix):\n",
        "    diagonal_1 = 0\n",
        "    diagonal_2 = 0\n",
        "\n",
        "    for row in range(len(matrix)):\n",
        "        # tinh duong cheo phu\n",
        "        diagonal_2 += matrix[row][len(matrix) - row - 1]\n",
        "        for col in range(len(matrix[row])):\n",
        "            # tinh duong cheo chinh\n",
        "            if row == col:\n",
        "                diagonal_1 += matrix[row][col]\n",
        "\n",
        "    return (diagonal_1, (diagonal_2))\n",
        "\n",
        "\n",
        "sum_diagonals(matrix)"
      ]
    }
  ],
  "metadata": {
    "colab": {
      "provenance": []
    },
    "kernelspec": {
      "display_name": "Python 3",
      "language": "python",
      "name": "python3"
    },
    "language_info": {
      "codemirror_mode": {
        "name": "ipython",
        "version": 3
      },
      "file_extension": ".py",
      "mimetype": "text/x-python",
      "name": "python",
      "nbconvert_exporter": "python",
      "pygments_lexer": "ipython3",
      "version": "3.11.5"
    }
  },
  "nbformat": 4,
  "nbformat_minor": 0
}
