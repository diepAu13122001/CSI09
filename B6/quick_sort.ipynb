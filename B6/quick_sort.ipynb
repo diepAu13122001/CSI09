{
 "cells": [
  {
   "cell_type": "code",
   "execution_count": 2,
   "metadata": {},
   "outputs": [],
   "source": [
    "number_list = [5, 9, 1, 12, 30, 35, 75, 10, 15, 20, 4, 0, 20, 0, 20, 3, 6, 14]"
   ]
  },
  {
   "cell_type": "code",
   "execution_count": 3,
   "metadata": {},
   "outputs": [],
   "source": [
    "def partition_right(arr, left, right):\n",
    "    pivot = arr[right - 1]  # chon moc de so sanh\n",
    "    i = left - 1\n",
    "    for j in range(left, right - 1):\n",
    "        if arr[j] < pivot:\n",
    "            i += 1\n",
    "            arr[i], arr[j] = arr[j], arr[i]\n",
    "    arr[i + 1], arr[right - 1] = arr[right - 1], arr[i + 1]\n",
    "    return i + 1\n",
    "\n",
    "\n",
    "def quick_sort_right(arr, left, right):\n",
    "    if right - left <= 1:\n",
    "        return\n",
    "    if len(arr) <= 1:\n",
    "        return\n",
    "    partition_index = partition_right(arr, left, right)\n",
    "\n",
    "    # de quy\n",
    "    quick_sort_right(arr, left, partition_index)\n",
    "    quick_sort_right(arr, partition_index + 1, right)"
   ]
  },
  {
   "cell_type": "code",
   "execution_count": 4,
   "metadata": {},
   "outputs": [
    {
     "data": {
      "text/plain": [
       "[0, 0, 1, 3, 4, 5, 6, 9, 10, 12, 14, 15, 20, 20, 20, 30, 35, 75]"
      ]
     },
     "execution_count": 4,
     "metadata": {},
     "output_type": "execute_result"
    }
   ],
   "source": [
    "quick_sort_right(number_list, 0, len(number_list))\n",
    "number_list"
   ]
  }
 ],
 "metadata": {
  "kernelspec": {
   "display_name": "Python 3",
   "language": "python",
   "name": "python3"
  },
  "language_info": {
   "codemirror_mode": {
    "name": "ipython",
    "version": 3
   },
   "file_extension": ".py",
   "mimetype": "text/x-python",
   "name": "python",
   "nbconvert_exporter": "python",
   "pygments_lexer": "ipython3",
   "version": "3.11.5"
  }
 },
 "nbformat": 4,
 "nbformat_minor": 2
}
