{
 "cells": [
  {
   "cell_type": "code",
   "execution_count": 2,
   "metadata": {},
   "outputs": [],
   "source": [
    "student_grade_list = [\n",
    "    {'id': 984, 'math': 9.0, 'literature': 5.4},\n",
    "    {'id': 12, 'math': 9.5, 'literature': 4.3},\n",
    "    {'id': 324, 'math': 9.7, 'literature': 5.3},\n",
    "    {'id': 890, 'math': 5.0, 'literature': 7.6},\n",
    "    {'id': 223, 'math': 7.6, 'literature': 5.3},\n",
    "    {'id': 543, 'math': 7.2, 'literature': 7.7},\n",
    "]"
   ]
  },
  {
   "cell_type": "code",
   "execution_count": null,
   "metadata": {},
   "outputs": [],
   "source": [
    "def is_before(student1, student2):\n",
    "    return student1[\"math\"] > student2[\"math\"]\n",
    "\n",
    "\n",
    "def merge_sort(arr, left, right, mid):\n",
    "    # copy ra 2 list(trai - phai)\n",
    "    arr1 = arr[left:mid]\n",
    "    arr2 = arr[mid:right]\n",
    "\n",
    "    n1 = len(arr1)\n",
    "    n2 = len(arr2)\n",
    "    i = j = 0\n",
    "    k = left\n",
    "\n",
    "    # chia den khi 1 trong 2 ds rong\n",
    "    while i < n1 and j < n2:\n",
    "        if is_before(arr1[i], arr2[j]):\n",
    "            arr[k] = arr1[i]\n",
    "            i += 1\n",
    "        else:\n",
    "            arr[k] = arr2[j]\n",
    "            j += 1\n",
    "        k += 1\n",
    "\n",
    "    # sap xep cac phan tu con thua\n",
    "    arr[k : k + n1 - i] = arr1[i:n1]\n",
    "    k += n1 - i\n",
    "    arr[k : k + n2 - j] = arr2[j:n2]\n",
    "\n",
    "\n",
    "def merge(arr, left, right):\n",
    "    if len(arr) <= 1:\n",
    "        return arr\n",
    "    if right - left <= 1:\n",
    "        return\n",
    "    mid = (left + right) // 2\n",
    "    # de quy\n",
    "    merge(arr, left, mid)\n",
    "    merge(arr, mid, right)\n",
    "\n",
    "    merge_sort(arr, left, right, mid)"
   ]
  },
  {
   "cell_type": "code",
   "execution_count": 3,
   "metadata": {},
   "outputs": [
    {
     "data": {
      "text/plain": [
       "[{'id': 324, 'math': 9.7, 'literature': 5.3},\n",
       " {'id': 12, 'math': 9.5, 'literature': 4.3},\n",
       " {'id': 984, 'math': 9.0, 'literature': 5.4},\n",
       " {'id': 223, 'math': 7.6, 'literature': 5.3},\n",
       " {'id': 543, 'math': 7.2, 'literature': 7.7},\n",
       " {'id': 890, 'math': 5.0, 'literature': 7.6}]"
      ]
     },
     "execution_count": 3,
     "metadata": {},
     "output_type": "execute_result"
    }
   ],
   "source": [
    "merge(student_grade_list, 0, len(student_grade_list))\n",
    "student_grade_list"
   ]
  }
 ],
 "metadata": {
  "kernelspec": {
   "display_name": "Python 3",
   "language": "python",
   "name": "python3"
  },
  "language_info": {
   "codemirror_mode": {
    "name": "ipython",
    "version": 3
   },
   "file_extension": ".py",
   "mimetype": "text/x-python",
   "name": "python",
   "nbconvert_exporter": "python",
   "pygments_lexer": "ipython3",
   "version": "3.11.5"
  }
 },
 "nbformat": 4,
 "nbformat_minor": 2
}
